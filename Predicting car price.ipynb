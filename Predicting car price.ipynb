{
 "cells": [
  {
   "cell_type": "markdown",
   "metadata": {},
   "source": [
    "## Imports\n",
    "Import pandas, numpy, matplotlib, sklearn and seaborn."
   ]
  },
  {
   "cell_type": "code",
   "execution_count": 1032,
   "metadata": {},
   "outputs": [],
   "source": [
    "import pandas as pd\n",
    "import numpy as np\n",
    "import matplotlib.pyplot as plt\n",
    "import seaborn as sns\n",
    "from sklearn.preprocessing import LabelEncoder\n",
    "from sklearn.model_selection import train_test_split\n",
    "\n",
    "%matplotlib inline"
   ]
  },
  {
   "cell_type": "code",
   "execution_count": 1033,
   "metadata": {},
   "outputs": [
    {
     "name": "stdout",
     "output_type": "stream",
     "text": [
      "<class 'pandas.core.frame.DataFrame'>\n",
      "RangeIndex: 301 entries, 0 to 300\n",
      "Data columns (total 9 columns):\n",
      "Car_Name         301 non-null object\n",
      "Year             301 non-null int64\n",
      "Selling_Price    301 non-null float64\n",
      "Present_Price    301 non-null float64\n",
      "Kms_Driven       301 non-null int64\n",
      "Fuel_Type        301 non-null object\n",
      "Seller_Type      301 non-null object\n",
      "Transmission     301 non-null object\n",
      "Owner            301 non-null int64\n",
      "dtypes: float64(2), int64(3), object(4)\n",
      "memory usage: 21.2+ KB\n"
     ]
    }
   ],
   "source": [
    "car_prices = pd.read_csv('car data.csv')\n",
    "car_prices.info()"
   ]
  },
  {
   "cell_type": "code",
   "execution_count": 1034,
   "metadata": {},
   "outputs": [
    {
     "name": "stdout",
     "output_type": "stream",
     "text": [
      "Dealer        195\n",
      "Individual    106\n",
      "Name: Seller_Type, dtype: int64\n",
      "Petrol    239\n",
      "Diesel     60\n",
      "CNG         2\n",
      "Name: Fuel_Type, dtype: int64\n",
      "Manual       261\n",
      "Automatic     40\n",
      "Name: Transmission, dtype: int64\n"
     ]
    }
   ],
   "source": [
    "#Checking the number of categories and count for categorical columns\n",
    "print(car_prices['Seller_Type'].value_counts())\n",
    "print(car_prices['Fuel_Type'].value_counts())\n",
    "print(car_prices['Transmission'].value_counts())"
   ]
  },
  {
   "cell_type": "code",
   "execution_count": 1035,
   "metadata": {
    "collapsed": true
   },
   "outputs": [],
   "source": [
    "#function to encode categorical values into numerical ones\n",
    "\n",
    "def encode_values(data_frame,column):\n",
    "    \n",
    "    label_encoder = LabelEncoder()\n",
    "\n",
    "    label_encoder.fit(data_frame[column])\n",
    "\n",
    "    data_frame['encoded_'+column] = label_encoder.transform(data_frame[column])\n",
    "    \n",
    "    "
   ]
  },
  {
   "cell_type": "code",
   "execution_count": 1036,
   "metadata": {},
   "outputs": [
    {
     "data": {
      "text/html": [
       "<div>\n",
       "<style scoped>\n",
       "    .dataframe tbody tr th:only-of-type {\n",
       "        vertical-align: middle;\n",
       "    }\n",
       "\n",
       "    .dataframe tbody tr th {\n",
       "        vertical-align: top;\n",
       "    }\n",
       "\n",
       "    .dataframe thead th {\n",
       "        text-align: right;\n",
       "    }\n",
       "</style>\n",
       "<table border=\"1\" class=\"dataframe\">\n",
       "  <thead>\n",
       "    <tr style=\"text-align: right;\">\n",
       "      <th></th>\n",
       "      <th>Car_Name</th>\n",
       "      <th>Year</th>\n",
       "      <th>Selling_Price</th>\n",
       "      <th>Present_Price</th>\n",
       "      <th>Kms_Driven</th>\n",
       "      <th>Fuel_Type</th>\n",
       "      <th>Seller_Type</th>\n",
       "      <th>Transmission</th>\n",
       "      <th>Owner</th>\n",
       "      <th>encoded_Seller_Type</th>\n",
       "      <th>encoded_Transmission</th>\n",
       "      <th>encoded_Fuel_Type</th>\n",
       "    </tr>\n",
       "  </thead>\n",
       "  <tbody>\n",
       "    <tr>\n",
       "      <th>0</th>\n",
       "      <td>ritz</td>\n",
       "      <td>2014</td>\n",
       "      <td>3.35</td>\n",
       "      <td>5.59</td>\n",
       "      <td>27000</td>\n",
       "      <td>Petrol</td>\n",
       "      <td>Dealer</td>\n",
       "      <td>Manual</td>\n",
       "      <td>0</td>\n",
       "      <td>0</td>\n",
       "      <td>1</td>\n",
       "      <td>2</td>\n",
       "    </tr>\n",
       "    <tr>\n",
       "      <th>1</th>\n",
       "      <td>sx4</td>\n",
       "      <td>2013</td>\n",
       "      <td>4.75</td>\n",
       "      <td>9.54</td>\n",
       "      <td>43000</td>\n",
       "      <td>Diesel</td>\n",
       "      <td>Dealer</td>\n",
       "      <td>Manual</td>\n",
       "      <td>0</td>\n",
       "      <td>0</td>\n",
       "      <td>1</td>\n",
       "      <td>1</td>\n",
       "    </tr>\n",
       "    <tr>\n",
       "      <th>2</th>\n",
       "      <td>ciaz</td>\n",
       "      <td>2017</td>\n",
       "      <td>7.25</td>\n",
       "      <td>9.85</td>\n",
       "      <td>6900</td>\n",
       "      <td>Petrol</td>\n",
       "      <td>Dealer</td>\n",
       "      <td>Manual</td>\n",
       "      <td>0</td>\n",
       "      <td>0</td>\n",
       "      <td>1</td>\n",
       "      <td>2</td>\n",
       "    </tr>\n",
       "    <tr>\n",
       "      <th>3</th>\n",
       "      <td>wagon r</td>\n",
       "      <td>2011</td>\n",
       "      <td>2.85</td>\n",
       "      <td>4.15</td>\n",
       "      <td>5200</td>\n",
       "      <td>Petrol</td>\n",
       "      <td>Dealer</td>\n",
       "      <td>Manual</td>\n",
       "      <td>0</td>\n",
       "      <td>0</td>\n",
       "      <td>1</td>\n",
       "      <td>2</td>\n",
       "    </tr>\n",
       "    <tr>\n",
       "      <th>4</th>\n",
       "      <td>swift</td>\n",
       "      <td>2014</td>\n",
       "      <td>4.60</td>\n",
       "      <td>6.87</td>\n",
       "      <td>42450</td>\n",
       "      <td>Diesel</td>\n",
       "      <td>Dealer</td>\n",
       "      <td>Manual</td>\n",
       "      <td>0</td>\n",
       "      <td>0</td>\n",
       "      <td>1</td>\n",
       "      <td>1</td>\n",
       "    </tr>\n",
       "  </tbody>\n",
       "</table>\n",
       "</div>"
      ],
      "text/plain": [
       "  Car_Name  Year  Selling_Price  Present_Price  Kms_Driven Fuel_Type  \\\n",
       "0     ritz  2014           3.35           5.59       27000    Petrol   \n",
       "1      sx4  2013           4.75           9.54       43000    Diesel   \n",
       "2     ciaz  2017           7.25           9.85        6900    Petrol   \n",
       "3  wagon r  2011           2.85           4.15        5200    Petrol   \n",
       "4    swift  2014           4.60           6.87       42450    Diesel   \n",
       "\n",
       "  Seller_Type Transmission  Owner  encoded_Seller_Type  encoded_Transmission  \\\n",
       "0      Dealer       Manual      0                    0                     1   \n",
       "1      Dealer       Manual      0                    0                     1   \n",
       "2      Dealer       Manual      0                    0                     1   \n",
       "3      Dealer       Manual      0                    0                     1   \n",
       "4      Dealer       Manual      0                    0                     1   \n",
       "\n",
       "   encoded_Fuel_Type  \n",
       "0                  2  \n",
       "1                  1  \n",
       "2                  2  \n",
       "3                  2  \n",
       "4                  1  "
      ]
     },
     "execution_count": 1036,
     "metadata": {},
     "output_type": "execute_result"
    }
   ],
   "source": [
    "encode_values(car_prices,'Seller_Type')\n",
    "encode_values(car_prices,'Transmission')\n",
    "encode_values(car_prices,'Fuel_Type')\n",
    "\n",
    "car_prices.head()"
   ]
  },
  {
   "cell_type": "markdown",
   "metadata": {},
   "source": [
    "# Exploratory data analysis (EDA)"
   ]
  },
  {
   "cell_type": "code",
   "execution_count": 1037,
   "metadata": {},
   "outputs": [
    {
     "data": {
      "text/plain": [
       "(0, 100000)"
      ]
     },
     "execution_count": 1037,
     "metadata": {},
     "output_type": "execute_result"
    },
    {
     "data": {
      "image/png": "[encoded data removed]",
      "text/plain": [
       "<matplotlib.figure.Figure at 0x1a1ec5aba8>"
      ]
     },
     "metadata": {},
     "output_type": "display_data"
    }
   ],
   "source": [
    "ax=sns.boxplot(x = 'Fuel_Type', y = 'Kms_Driven' , data=car_prices)\n",
    "ax.set_ylim([0,100000]) #y-limit set to 100000 for better visualization"
   ]
  },
  {
   "cell_type": "markdown",
   "metadata": {},
   "source": [
    "Diesel and CNG cars have run more (Racked up more Kms) than petrol cars"
   ]
  },
  {
   "cell_type": "code",
   "execution_count": 1038,
   "metadata": {},
   "outputs": [
    {
     "data": {
      "text/plain": [
       "(0, 30)"
      ]
     },
     "execution_count": 1038,
     "metadata": {},
     "output_type": "execute_result"
    },
    {
     "data": {
      "image/png": "[encoded data removed]",
      "text/plain": [
       "<matplotlib.figure.Figure at 0x1a1e1090f0>"
      ]
     },
     "metadata": {},
     "output_type": "display_data"
    }
   ],
   "source": [
    "bxPlt = sns.boxplot(x = 'Fuel_Type', y = 'Selling_Price' , data=car_prices)#, hue='Seller_Type')\n",
    "bxPlt.set_ylim([0,30])"
   ]
  },
  {
   "cell_type": "markdown",
   "metadata": {},
   "source": [
    "The cost of cars sold by dealers is more than those sold by individuals. This is probably because the dealers refurbish and service the cars and sell it with some kind of warranty. Cost of diesel cars is more than that of petrol cars."
   ]
  },
  {
   "cell_type": "code",
   "execution_count": 1039,
   "metadata": {},
   "outputs": [
    {
     "data": {
      "image/png": "[encoded data removed]",
      "text/plain": [
       "<matplotlib.figure.Figure at 0x1a1da67860>"
      ]
     },
     "metadata": {},
     "output_type": "display_data"
    }
   ],
   "source": [
    "bxPlt = sns.boxplot(x = 'Transmission', y = 'Selling_Price' , data=car_prices)"
   ]
  },
  {
   "cell_type": "markdown",
   "metadata": {},
   "source": [
    "Generally, the cost of automatics is more than that of manuals. "
   ]
  },
  {
   "cell_type": "code",
   "execution_count": 1040,
   "metadata": {},
   "outputs": [
    {
     "data": {
      "image/png": "[encoded data removed]",
      "text/plain": [
       "<matplotlib.figure.Figure at 0x1a1e7eb080>"
      ]
     },
     "metadata": {},
     "output_type": "display_data"
    }
   ],
   "source": [
    "plts = sns.scatterplot(x=car_prices['Kms_Driven'],y = car_prices['Selling_Price'], hue = car_prices['Fuel_Type'])\n",
    "#plts.set_xlim([0,150000])"
   ]
  },
  {
   "cell_type": "code",
   "execution_count": 1041,
   "metadata": {},
   "outputs": [
    {
     "data": {
      "image/png": "[encoded data removed]",
      "text/plain": [
       "<matplotlib.figure.Figure at 0x1a1d373080>"
      ]
     },
     "metadata": {},
     "output_type": "display_data"
    }
   ],
   "source": [
    "plts = sns.scatterplot(x=car_prices['Kms_Driven'],y = car_prices['Selling_Price'], hue = car_prices['Transmission'])\n",
    "#plts.set_xlim([0,150000])"
   ]
  },
  {
   "cell_type": "markdown",
   "metadata": {},
   "source": [
    "As can be seen from the 2 graphs above, the most expensive cars are diesel automatics"
   ]
  },
  {
   "cell_type": "code",
   "execution_count": 1042,
   "metadata": {},
   "outputs": [
    {
     "data": {
      "image/png": "[encoded data removed]",
      "text/plain": [
       "<matplotlib.figure.Figure at 0x1a1cdd43c8>"
      ]
     },
     "metadata": {},
     "output_type": "display_data"
    }
   ],
   "source": [
    "plts = sns.scatterplot(x=car_prices['Kms_Driven'],y = car_prices['Selling_Price'], hue = car_prices['Year'])\n",
    "#plts.set_xlim([0,150000])"
   ]
  },
  {
   "cell_type": "markdown",
   "metadata": {},
   "source": [
    "Cars which are older have covered more Kilometers"
   ]
  },
  {
   "cell_type": "code",
   "execution_count": 1043,
   "metadata": {},
   "outputs": [
    {
     "data": {
      "text/plain": [
       "<matplotlib.axes._subplots.AxesSubplot at 0x1a1afff518>"
      ]
     },
     "execution_count": 1043,
     "metadata": {},
     "output_type": "execute_result"
    },
    {
     "data": {
      "image/png": "[encoded data removed]",
      "text/plain": [
       "<matplotlib.figure.Figure at 0x1a1e6abc18>"
      ]
     },
     "metadata": {},
     "output_type": "display_data"
    }
   ],
   "source": [
    "sns.boxplot(data = car_prices, x = 'Owner' , y = 'Selling_Price', hue  = 'Fuel_Type')"
   ]
  },
  {
   "cell_type": "markdown",
   "metadata": {},
   "source": [
    "People hold on to diesel cars for longer which might be the reason why they have mostly 0 number of owners"
   ]
  },
  {
   "cell_type": "markdown",
   "metadata": {},
   "source": [
    "# Applying models"
   ]
  },
  {
   "cell_type": "code",
   "execution_count": 1060,
   "metadata": {
    "collapsed": true
   },
   "outputs": [],
   "source": [
    "from sklearn.model_selection import cross_val_score\n",
    "from sklearn.metrics import r2_score\n",
    "cross_validation_folds = 5\n",
    "\n",
    "cv_means_and_errors = []"
   ]
  },
  {
   "cell_type": "code",
   "execution_count": 1061,
   "metadata": {},
   "outputs": [],
   "source": [
    "#Selecting features and test/train split for the model\n",
    "def initialize_data():\n",
    "    \n",
    "    car_prices = pd.read_csv('car data.csv')\n",
    "    \n",
    "    y=car_prices['Selling_Price']\n",
    "\n",
    "    X=car_prices.drop([\"Selling_Price\",\"Car_Name\",'Fuel_Type','Seller_Type','Transmission'],axis=1)\n",
    "\n",
    "    X_train,X_test,y_train,y_test=train_test_split(X,y,test_size=0.3,random_state=1)\n",
    "    \n",
    "    #X_test,X_train = normalize_Data(X_test,X_train)\n",
    "    \n",
    "    return X_train,X_test,y_train,y_test\n",
    "    \n",
    "  \n",
    "#Normalize data with 0 mean and normal Standard Deviation\n",
    "def normalize_Data(X_test, X_train):\n",
    "    \n",
    "    X_test = (X_test-X_test.mean())/(X_test.max()-X_test.min())\n",
    "    \n",
    "    X_train = (X_train - X_train.mean())/(X_train.max()-X_train.min())\n",
    "    \n",
    "    return X_test,X_train"
   ]
  },
  {
   "cell_type": "code",
   "execution_count": 1062,
   "metadata": {},
   "outputs": [],
   "source": [
    "#The cross validation score can be used to further choose the best model\n",
    "def calculate_cross_validation_score(algorithm,X_train,y_train):\n",
    "     \n",
    "    cross_validation_score = cross_val_score(algorithm,X_train,y_train,cv=cross_validation_folds)\n",
    "    \n",
    "    print(algorithm,'\\n')\n",
    "    \n",
    "    print(\"CV scores:\",cross_validation_score,\"\\n\")\n",
    "    \n",
    "    print(\"CV scores mean:\",cross_validation_score.mean())\n",
    "    \n",
    "    return cross_validation_score.mean()\n",
    "            \n",
    "    \n",
    "    \n",
    "#Calculating the training and testing errors using the coefficient of determination\n",
    "def calculate_training_testing_error(algorithm,X_train,y_train,X_test,y_test):\n",
    "    \n",
    "    \n",
    "    algorithm.fit(X_train,y_train)\n",
    "    \n",
    "    y_test_predicted = algorithm.predict(X_test);\n",
    "    \n",
    "    y_train_predicted = algorithm.predict(X_train);\n",
    "    \n",
    "    y_test_predicted_data_frame = pd.DataFrame(y_test_predicted)\n",
    "    \n",
    "    y_train_predicted_data_frame = pd.DataFrame(y_train_predicted)\n",
    "    \n",
    "    r2_train = r2_score(y_train,y_train_predicted_data_frame);\n",
    "    \n",
    "    r2_test = r2_score(y_test,y_test_predicted_data_frame);\n",
    "    \n",
    "    print(algorithm,'\\n')\n",
    "    \n",
    "    print(\"R2 Training:\",r2_train,\"\\n\")\n",
    "    \n",
    "    print(\"R2 Test:\",r2_test)\n",
    "    \n",
    "    cross_validation_mean = calculate_cross_validation_score(algorithm, X_train, y_train);\n",
    "    \n",
    "    new_row = {'Algorithm':algorithm, 'CV Mean':cross_validation_mean ,'R2 Test':r2_test, 'R2 Train':r2_train}\n",
    "    \n",
    "    cv_means_and_errors.append(new_row)\n",
    "    \n",
    "\n",
    "    \n",
    "    \n",
    "    "
   ]
  },
  {
   "cell_type": "markdown",
   "metadata": {},
   "source": [
    "# Linear Regression"
   ]
  },
  {
   "cell_type": "code",
   "execution_count": 1063,
   "metadata": {
    "collapsed": true
   },
   "outputs": [],
   "source": [
    "from sklearn.linear_model import LinearRegression"
   ]
  },
  {
   "cell_type": "code",
   "execution_count": 1064,
   "metadata": {},
   "outputs": [
    {
     "name": "stdout",
     "output_type": "stream",
     "text": [
      "LinearRegression(copy_X=True, fit_intercept=True, n_jobs=1, normalize=False) \n",
      "\n",
      "R2 Training: 0.8532890291293729 \n",
      "\n",
      "R2 Test: 0.8200284800922883\n",
      "LinearRegression(copy_X=True, fit_intercept=True, n_jobs=1, normalize=False) \n",
      "\n",
      "CV scores: [0.913896   0.89708885 0.7997684  0.79026171 0.67360608] \n",
      "\n",
      "CV scores mean: 0.8149242079275563\n"
     ]
    }
   ],
   "source": [
    "linear_regression = LinearRegression()\n",
    "\n",
    "X_train,X_test,y_train,y_test = initialize_data()\n",
    "\n",
    "calculate_training_testing_error(linear_regression,X_train,y_train,X_test,y_test)"
   ]
  },
  {
   "cell_type": "markdown",
   "metadata": {},
   "source": [
    "# Polynomial Regression"
   ]
  },
  {
   "cell_type": "code",
   "execution_count": 1065,
   "metadata": {
    "collapsed": true
   },
   "outputs": [],
   "source": [
    "from sklearn.preprocessing import PolynomialFeatures"
   ]
  },
  {
   "cell_type": "code",
   "execution_count": 1066,
   "metadata": {},
   "outputs": [],
   "source": [
    "polynomial_features_train = PolynomialFeatures(degree = 3,include_bias=False)\n",
    "\n",
    "polynomial_features_test = PolynomialFeatures(degree = 3,include_bias=False)\n",
    "\n",
    "\n",
    "X_train,X_test,y_train,y_test = initialize_data()\n",
    "\n",
    "X_train_polynomial = polynomial_features_train.fit_transform(X_train)\n",
    "\n",
    "X_test_polynomial = polynomial_features_test.fit_transform(X_test)\n"
   ]
  },
  {
   "cell_type": "code",
   "execution_count": 1067,
   "metadata": {},
   "outputs": [
    {
     "name": "stdout",
     "output_type": "stream",
     "text": [
      "LinearRegression(copy_X=True, fit_intercept=True, n_jobs=1, normalize=False) \n",
      "\n",
      "R2 Training: 0.9762991138832335 \n",
      "\n",
      "R2 Test: 0.6816921384565515\n",
      "LinearRegression(copy_X=True, fit_intercept=True, n_jobs=1, normalize=False) \n",
      "\n",
      "CV scores: [ 0.95735542  0.94913444  0.95555801  0.93157159 -2.13524891] \n",
      "\n",
      "CV scores mean: 0.3316741100323807\n"
     ]
    }
   ],
   "source": [
    "\n",
    "calculate_training_testing_error(linear_regression,X_train_polynomial,y_train,X_test_polynomial,y_test)"
   ]
  },
  {
   "cell_type": "markdown",
   "metadata": {},
   "source": [
    "# Ridge Regression\n"
   ]
  },
  {
   "cell_type": "code",
   "execution_count": 1068,
   "metadata": {
    "collapsed": true
   },
   "outputs": [],
   "source": [
    "from sklearn.linear_model import Ridge"
   ]
  },
  {
   "cell_type": "code",
   "execution_count": 1069,
   "metadata": {
    "collapsed": true
   },
   "outputs": [],
   "source": [
    "ridge_regression = Ridge(alpha=0.04)"
   ]
  },
  {
   "cell_type": "code",
   "execution_count": 1070,
   "metadata": {},
   "outputs": [
    {
     "name": "stdout",
     "output_type": "stream",
     "text": [
      "Ridge(alpha=0.04, copy_X=True, fit_intercept=True, max_iter=None,\n",
      "   normalize=False, random_state=None, solver='auto', tol=0.001) \n",
      "\n",
      "R2 Training: 0.8532890042084806 \n",
      "\n",
      "R2 Test: 0.8202137312412003\n",
      "Ridge(alpha=0.04, copy_X=True, fit_intercept=True, max_iter=None,\n",
      "   normalize=False, random_state=None, solver='auto', tol=0.001) \n",
      "\n",
      "CV scores: [0.91388674 0.89708834 0.7997718  0.79027083 0.67361167] \n",
      "\n",
      "CV scores mean: 0.8149258772039879\n"
     ]
    }
   ],
   "source": [
    "#Ridge regression with Linear X \n",
    "\n",
    "X_train,X_test,y_train,y_test = initialize_data()\n",
    "\n",
    "calculate_training_testing_error(ridge_regression,X_train,y_train,X_test,y_test)"
   ]
  },
  {
   "cell_type": "markdown",
   "metadata": {},
   "source": [
    "# Lasso Regression"
   ]
  },
  {
   "cell_type": "code",
   "execution_count": 1071,
   "metadata": {
    "collapsed": true
   },
   "outputs": [],
   "source": [
    "from sklearn.linear_model import Lasso"
   ]
  },
  {
   "cell_type": "code",
   "execution_count": 1072,
   "metadata": {},
   "outputs": [],
   "source": [
    "lasso_regression = Lasso(alpha = 0.04)"
   ]
  },
  {
   "cell_type": "code",
   "execution_count": 1073,
   "metadata": {},
   "outputs": [
    {
     "name": "stdout",
     "output_type": "stream",
     "text": [
      "-------------------ERRORS-----------------\n",
      "Lasso(alpha=0.04, copy_X=True, fit_intercept=True, max_iter=1000,\n",
      "   normalize=False, positive=False, precompute=False, random_state=None,\n",
      "   selection='cyclic', tol=0.0001, warm_start=False) \n",
      "\n",
      "R2 Training: 0.852920125804288 \n",
      "\n",
      "R2 Test: 0.8389810792097961\n",
      "Lasso(alpha=0.04, copy_X=True, fit_intercept=True, max_iter=1000,\n",
      "   normalize=False, positive=False, precompute=False, random_state=None,\n",
      "   selection='cyclic', tol=0.0001, warm_start=False) \n",
      "\n",
      "CV scores: [0.91280996 0.89699383 0.79873318 0.79052901 0.67296241] \n",
      "\n",
      "CV scores mean: 0.8144056761742228\n"
     ]
    }
   ],
   "source": [
    "X_train,X_test,y_train,y_test = initialize_data()\n",
    "\n",
    "#calculate_cross_validation_score(lasso_regression,X_train,y_train)\n",
    "\n",
    "print('-------------------ERRORS-----------------')\n",
    "\n",
    "calculate_training_testing_error(lasso_regression,X_train,y_train,X_test,y_test)"
   ]
  },
  {
   "cell_type": "markdown",
   "metadata": {},
   "source": [
    "# Comparing performance of models"
   ]
  },
  {
   "cell_type": "code",
   "execution_count": 1074,
   "metadata": {},
   "outputs": [],
   "source": [
    "cv_means_and_errors_data_frame = pd.DataFrame(data = cv_means_and_errors ,columns=['Algorithm','CV Mean', 'R2 Test', 'R2 Train'])\n"
   ]
  },
  {
   "cell_type": "code",
   "execution_count": 1078,
   "metadata": {},
   "outputs": [
    {
     "data": {
      "text/html": [
       "<div>\n",
       "<style scoped>\n",
       "    .dataframe tbody tr th:only-of-type {\n",
       "        vertical-align: middle;\n",
       "    }\n",
       "\n",
       "    .dataframe tbody tr th {\n",
       "        vertical-align: top;\n",
       "    }\n",
       "\n",
       "    .dataframe thead th {\n",
       "        text-align: right;\n",
       "    }\n",
       "</style>\n",
       "<table border=\"1\" class=\"dataframe\">\n",
       "  <thead>\n",
       "    <tr style=\"text-align: right;\">\n",
       "      <th></th>\n",
       "      <th>Algorithm</th>\n",
       "      <th>CV Mean</th>\n",
       "      <th>R2 Test</th>\n",
       "      <th>R2 Train</th>\n",
       "    </tr>\n",
       "  </thead>\n",
       "  <tbody>\n",
       "    <tr>\n",
       "      <th>0</th>\n",
       "      <td>LinearRegression(copy_X=True, fit_intercept=Tr...</td>\n",
       "      <td>0.814924</td>\n",
       "      <td>0.820028</td>\n",
       "      <td>0.853289</td>\n",
       "    </tr>\n",
       "    <tr>\n",
       "      <th>1</th>\n",
       "      <td>LinearRegression(copy_X=True, fit_intercept=Tr...</td>\n",
       "      <td>0.331674</td>\n",
       "      <td>0.681692</td>\n",
       "      <td>0.976299</td>\n",
       "    </tr>\n",
       "    <tr>\n",
       "      <th>2</th>\n",
       "      <td>Ridge(alpha=0.04, copy_X=True, fit_intercept=T...</td>\n",
       "      <td>0.814926</td>\n",
       "      <td>0.820214</td>\n",
       "      <td>0.853289</td>\n",
       "    </tr>\n",
       "    <tr>\n",
       "      <th>3</th>\n",
       "      <td>Lasso(alpha=0.04, copy_X=True, fit_intercept=T...</td>\n",
       "      <td>0.814406</td>\n",
       "      <td>0.838981</td>\n",
       "      <td>0.852920</td>\n",
       "    </tr>\n",
       "  </tbody>\n",
       "</table>\n",
       "</div>"
      ],
      "text/plain": [
       "                                           Algorithm   CV Mean   R2 Test  \\\n",
       "0  LinearRegression(copy_X=True, fit_intercept=Tr...  0.814924  0.820028   \n",
       "1  LinearRegression(copy_X=True, fit_intercept=Tr...  0.331674  0.681692   \n",
       "2  Ridge(alpha=0.04, copy_X=True, fit_intercept=T...  0.814926  0.820214   \n",
       "3  Lasso(alpha=0.04, copy_X=True, fit_intercept=T...  0.814406  0.838981   \n",
       "\n",
       "   R2 Train  \n",
       "0  0.853289  \n",
       "1  0.976299  \n",
       "2  0.853289  \n",
       "3  0.852920  "
      ]
     },
     "execution_count": 1078,
     "metadata": {},
     "output_type": "execute_result"
    }
   ],
   "source": [
    "(cv_means_and_errors_data_frame)"
   ]
  },
  {
   "cell_type": "code",
   "execution_count": null,
   "metadata": {
    "collapsed": true
   },
   "outputs": [],
   "source": []
  },
  {
   "cell_type": "code",
   "execution_count": null,
   "metadata": {
    "collapsed": true
   },
   "outputs": [],
   "source": []
  }
 ],
 "metadata": {
  "kernelspec": {
   "display_name": "Python 3",
   "language": "python",
   "name": "python3"
  },
  "language_info": {
   "codemirror_mode": {
    "name": "ipython",
    "version": 3
   },
   "file_extension": ".py",
   "mimetype": "text/x-python",
   "name": "python",
   "nbconvert_exporter": "python",
   "pygments_lexer": "ipython3",
   "version": "3.6.8"
  }
 },
 "nbformat": 4,
 "nbformat_minor": 2
}
